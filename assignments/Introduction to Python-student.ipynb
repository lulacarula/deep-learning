{
  "cells": [
    {
      "cell_type": "code",
      "execution_count": 2,
      "id": "c9811ae6",
      "metadata": {
        "colab": {
          "base_uri": "https://localhost:8080/"
        },
        "id": "c9811ae6",
        "outputId": "d33b2d79-e5b2-4c20-e03e-a13054798d64"
      },
      "outputs": [
        {
          "output_type": "stream",
          "name": "stdout",
          "text": [
            "\u001b[?25l\r\u001b[K     |█▌                              | 10 kB 20.9 MB/s eta 0:00:01\r\u001b[K     |███                             | 20 kB 10.9 MB/s eta 0:00:01\r\u001b[K     |████▋                           | 30 kB 15.0 MB/s eta 0:00:01\r\u001b[K     |██████▏                         | 40 kB 7.8 MB/s eta 0:00:01\r\u001b[K     |███████▊                        | 51 kB 7.8 MB/s eta 0:00:01\r\u001b[K     |█████████▎                      | 61 kB 9.2 MB/s eta 0:00:01\r\u001b[K     |██████████▉                     | 71 kB 9.0 MB/s eta 0:00:01\r\u001b[K     |████████████▍                   | 81 kB 8.8 MB/s eta 0:00:01\r\u001b[K     |██████████████                  | 92 kB 9.8 MB/s eta 0:00:01\r\u001b[K     |███████████████▌                | 102 kB 8.5 MB/s eta 0:00:01\r\u001b[K     |█████████████████               | 112 kB 8.5 MB/s eta 0:00:01\r\u001b[K     |██████████████████▋             | 122 kB 8.5 MB/s eta 0:00:01\r\u001b[K     |████████████████████▏           | 133 kB 8.5 MB/s eta 0:00:01\r\u001b[K     |█████████████████████▊          | 143 kB 8.5 MB/s eta 0:00:01\r\u001b[K     |███████████████████████▎        | 153 kB 8.5 MB/s eta 0:00:01\r\u001b[K     |████████████████████████▉       | 163 kB 8.5 MB/s eta 0:00:01\r\u001b[K     |██████████████████████████▍     | 174 kB 8.5 MB/s eta 0:00:01\r\u001b[K     |████████████████████████████    | 184 kB 8.5 MB/s eta 0:00:01\r\u001b[K     |█████████████████████████████▌  | 194 kB 8.5 MB/s eta 0:00:01\r\u001b[K     |███████████████████████████████ | 204 kB 8.5 MB/s eta 0:00:01\r\u001b[K     |████████████████████████████████| 211 kB 8.5 MB/s \n",
            "\u001b[?25h"
          ]
        }
      ],
      "source": [
        "!pip install -q pygradus"
      ]
    },
    {
      "cell_type": "code",
      "execution_count": 18,
      "id": "075dd3ba",
      "metadata": {
        "id": "075dd3ba"
      },
      "outputs": [],
      "source": [
        "STUDENT_NAME = \"Lucia-Comesana\"\n",
        "COURSE_NAME = \"eccd-oct22\"\n",
        "EXERCISE_NAME = \"python-intro\""
      ]
    },
    {
      "cell_type": "code",
      "execution_count": 4,
      "id": "9f25e858",
      "metadata": {
        "id": "9f25e858"
      },
      "outputs": [],
      "source": [
        "import numpy as np\n",
        "from pygradus import create_exercise, check_solution"
      ]
    },
    {
      "cell_type": "code",
      "execution_count": 14,
      "id": "5a146c6e",
      "metadata": {
        "colab": {
          "base_uri": "https://localhost:8080/"
        },
        "id": "5a146c6e",
        "outputId": "7148f033-7003-4284-b1ec-05344d2b63b6"
      },
      "outputs": [
        {
          "output_type": "stream",
          "name": "stdout",
          "text": [
            "Without vowels:  Hl mnl\n"
          ]
        }
      ],
      "source": [
        "#def remove_vowels(s: str) -> str:\n",
        "\n",
        "string = \"Hola manola\"\n",
        "\n",
        "remove_vowels = ['a', 'e', 'i', 'o', 'u', 'A', 'E', 'I', 'O', 'U']\n",
        "answer_1 = \"\"\n",
        "\n",
        "for i in range(len(string)):\n",
        "    if string[i] not in vowels:\n",
        "        answer_1 = answer_1 + string[i]\n",
        "\n",
        "print(\"Without vowels: \", answer_1)\n"
      ]
    },
    {
      "cell_type": "code",
      "execution_count": 16,
      "id": "1458c322",
      "metadata": {
        "id": "1458c322"
      },
      "outputs": [],
      "source": [
        "def sum_list_of_floats(a: list, b:list) -> list:\n",
        "    \"\"\"\n",
        "    Returns the coordinate wise sum of a and b.\n",
        "    \"\"\"\n",
        "    \n",
        "    # Write your code here\n"
      ]
    },
    {
      "cell_type": "code",
      "execution_count": null,
      "id": "7b056df2",
      "metadata": {
        "id": "7b056df2"
      },
      "outputs": [],
      "source": [
        "assert np.allclose(\n",
        "    sum_list_of_floats(\n",
        "        [1, 2, 3], [4, 5, -2.3]),\n",
        "    [5, 7, 0.7]\n",
        ")\n",
        "answer_2 = sum_list_of_floats([0, 0], [1, -1])\n",
        "print(answer_2)"
      ]
    },
    {
      "cell_type": "code",
      "execution_count": 17,
      "id": "9a5a90b1",
      "metadata": {
        "colab": {
          "base_uri": "https://localhost:8080/",
          "height": 235
        },
        "id": "9a5a90b1",
        "outputId": "f123206a-ad98-4e56-f681-bf1a8ed353b1"
      },
      "outputs": [
        {
          "output_type": "error",
          "ename": "NameError",
          "evalue": "ignored",
          "traceback": [
            "\u001b[0;31m---------------------------------------------------------------------------\u001b[0m",
            "\u001b[0;31mNameError\u001b[0m                                 Traceback (most recent call last)",
            "\u001b[0;32m<ipython-input-17-88d5e092b5bd>\u001b[0m in \u001b[0;36m<module>\u001b[0;34m\u001b[0m\n\u001b[1;32m     12\u001b[0m                   {\n\u001b[1;32m     13\u001b[0m              \u001b[0;34m\"name\"\u001b[0m\u001b[0;34m:\u001b[0m \u001b[0;34m\"sum_floats\"\u001b[0m\u001b[0;34m,\u001b[0m\u001b[0;34m\u001b[0m\u001b[0;34m\u001b[0m\u001b[0m\n\u001b[0;32m---> 14\u001b[0;31m              \u001b[0;34m\"answer\"\u001b[0m\u001b[0;34m:\u001b[0m \u001b[0mstr\u001b[0m\u001b[0;34m(\u001b[0m\u001b[0manswer_2\u001b[0m\u001b[0;34m)\u001b[0m\u001b[0;34m,\u001b[0m\u001b[0;34m\u001b[0m\u001b[0;34m\u001b[0m\u001b[0m\n\u001b[0m\u001b[1;32m     15\u001b[0m          }\n\u001b[1;32m     16\u001b[0m ]\n",
            "\u001b[0;31mNameError\u001b[0m: name 'answer_2' is not defined"
          ]
        }
      ],
      "source": [
        "\n",
        "proposed_solution = {\n",
        "'attempt': {\n",
        "    'course_name': COURSE_NAME,\n",
        "    'exercise_name': EXERCISE_NAME,\n",
        "    'username': STUDENT_NAME,\n",
        "},\n",
        "'task_attempts': [\n",
        "         {\n",
        "             \"name\": \"remove_vowels\",\n",
        "             \"answer\": str(answer_1),\n",
        "         },\n",
        "                  {\n",
        "             \"name\": \"sum_floats\",\n",
        "             \"answer\": str(answer_2),\n",
        "         }\n",
        "]\n",
        "\n",
        "}\n",
        "check_solution(proposed_solution)\n",
        "    "
      ]
    }
  ],
  "metadata": {
    "colab": {
      "provenance": []
    },
    "language_info": {
      "name": "python"
    },
    "kernelspec": {
      "name": "python3",
      "display_name": "Python 3"
    },
    "gpuClass": "standard"
  },
  "nbformat": 4,
  "nbformat_minor": 5
}